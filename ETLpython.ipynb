{
 "cells": [
  {
   "cell_type": "code",
   "execution_count": 19,
   "metadata": {},
   "outputs": [],
   "source": [
    "import pandas as pd"
   ]
  },
  {
   "cell_type": "code",
   "execution_count": 20,
   "metadata": {},
   "outputs": [],
   "source": [
    "df = pd.read_csv('Extract.csv.txt')"
   ]
  },
  {
   "cell_type": "code",
   "execution_count": 21,
   "metadata": {},
   "outputs": [],
   "source": [
    "user_ids = df['User ID'].tolist()"
   ]
  },
  {
   "cell_type": "code",
   "execution_count": 22,
   "metadata": {},
   "outputs": [
    {
     "data": {
      "text/plain": [
       "[99, 199, 299]"
      ]
     },
     "execution_count": 22,
     "metadata": {},
     "output_type": "execute_result"
    }
   ],
   "source": [
    "user_ids"
   ]
  },
  {
   "cell_type": "code",
   "execution_count": 23,
   "metadata": {},
   "outputs": [],
   "source": [
    "api_url = 'https://sdw-2023-prd.up.railway.app'"
   ]
  },
  {
   "cell_type": "code",
   "execution_count": 31,
   "metadata": {},
   "outputs": [],
   "source": [
    "import requests as rq\n",
    "import json as js \n",
    "\n",
    "def get_user(id):\n",
    "    response = rq.get(f'{api_url}/users/{id}')\n",
    "    return response.json() if response.status_code == 200 else None\n"
   ]
  },
  {
   "cell_type": "code",
   "execution_count": 32,
   "metadata": {},
   "outputs": [],
   "source": [
    "users = [user  for  id in user_ids if (user := get_user(id)) is not None]"
   ]
  },
  {
   "cell_type": "code",
   "execution_count": 33,
   "metadata": {},
   "outputs": [
    {
     "name": "stdout",
     "output_type": "stream",
     "text": [
      "[\n",
      "  {\n",
      "    \"id\": 99,\n",
      "    \"name\": \"KAIO\",\n",
      "    \"account\": {\n",
      "      \"id\": 1086,\n",
      "      \"number\": \"0101-00\",\n",
      "      \"agency\": \"000-1\",\n",
      "      \"balance\": 2000.0,\n",
      "      \"limit\": 0.0\n",
      "    },\n",
      "    \"card\": {\n",
      "      \"id\": 997,\n",
      "      \"number\": \"9999 9999 9989 9999\",\n",
      "      \"limit\": 1000.0\n",
      "    },\n",
      "    \"features\": [],\n",
      "    \"news\": []\n",
      "  },\n",
      "  {\n",
      "    \"id\": 199,\n",
      "    \"name\": \"Jo\\u00e3o Silva\",\n",
      "    \"account\": {\n",
      "      \"id\": 204,\n",
      "      \"number\": \"1234-5\",\n",
      "      \"agency\": \"0001-9\",\n",
      "      \"balance\": 1000.0,\n",
      "      \"limit\": 500.0\n",
      "    },\n",
      "    \"card\": {\n",
      "      \"id\": 192,\n",
      "      \"number\": \"1234-5678-9012-3456\",\n",
      "      \"limit\": 2000.0\n",
      "    },\n",
      "    \"features\": [],\n",
      "    \"news\": [\n",
      "      {\n",
      "        \"id\": 602,\n",
      "        \"icon\": \"https://images.genius.com/31fac7e2bef0ff83f25dbd8077863794.1000x1000x1.jpg\",\n",
      "        \"description\": \"Eduardo esteve aqui\"\n",
      "      },\n",
      "      {\n",
      "        \"id\": 603,\n",
      "        \"icon\": \"https://images.genius.com/31fac7e2bef0ff83f25dbd8077863794.1000x1000x1.jpg\",\n",
      "        \"description\": \"Eduardo esteve aqui\"\n",
      "      },\n",
      "      {\n",
      "        \"id\": 1150,\n",
      "        \"icon\": \"https://digitalinnovationone.github.io/santander-dev-week-2023-api/icons/credit.svg\",\n",
      "        \"description\": \"Jo\\u00e3o Silva, todas estas quest\\u00f5es, devidamente ponderadas, levantam d\\u00favidas sobre se a estrutura atual da organiza\\u00e7\\u00e3o aponta para a melhoria do or\\u00e7amento setorial. \"\n",
      "      }\n",
      "    ]\n",
      "  },\n",
      "  {\n",
      "    \"id\": 299,\n",
      "    \"name\": \"Pyterson\",\n",
      "    \"account\": {\n",
      "      \"id\": 305,\n",
      "      \"number\": \"0224-4\",\n",
      "      \"agency\": \"0224\",\n",
      "      \"balance\": 0.0,\n",
      "      \"limit\": 1000.0\n",
      "    },\n",
      "    \"card\": {\n",
      "      \"id\": 292,\n",
      "      \"number\": \"**** **** **** 2224\",\n",
      "      \"limit\": 500.0\n",
      "    },\n",
      "    \"features\": [\n",
      "      {\n",
      "        \"id\": 89,\n",
      "        \"icon\": \"string\",\n",
      "        \"description\": \"string\"\n",
      "      }\n",
      "    ],\n",
      "    \"news\": [\n",
      "      {\n",
      "        \"id\": 861,\n",
      "        \"icon\": \"string\",\n",
      "        \"description\": \"string\"\n",
      "      },\n",
      "      {\n",
      "        \"id\": 1245,\n",
      "        \"icon\": \"https://digitalinnovationone.github.io/santander-dev-week-2023-api/icons/credit.svg\",\n",
      "        \"description\": \"Pyterson, podemos j\\u00e1 vislumbrar o modo pelo qual a estrutura atual da organiza\\u00e7\\u00e3o afeta positivamente a correta previs\\u00e3o das novas proposi\\u00e7\\u00f5es. \"\n",
      "      },\n",
      "      {\n",
      "        \"id\": 1293,\n",
      "        \"icon\": \"https://digitalinnovationone.github.io/santander-dev-week-2023-api/icons/credit.svg\",\n",
      "        \"description\": \"Invista seu dinheiro com sabedoria e garanta um futuro pr\\u00f3spero!\"\n",
      "      }\n",
      "    ]\n",
      "  }\n",
      "]\n"
     ]
    }
   ],
   "source": [
    "print(js.dumps(users, indent = 2))"
   ]
  },
  {
   "cell_type": "code",
   "execution_count": null,
   "metadata": {},
   "outputs": [],
   "source": []
  }
 ],
 "metadata": {
  "kernelspec": {
   "display_name": "base",
   "language": "python",
   "name": "python3"
  },
  "language_info": {
   "codemirror_mode": {
    "name": "ipython",
    "version": 3
   },
   "file_extension": ".py",
   "mimetype": "text/x-python",
   "name": "python",
   "nbconvert_exporter": "python",
   "pygments_lexer": "ipython3",
   "version": "3.9.12"
  },
  "orig_nbformat": 4
 },
 "nbformat": 4,
 "nbformat_minor": 2
}
